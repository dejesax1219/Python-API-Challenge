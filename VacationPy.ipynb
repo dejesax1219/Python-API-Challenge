{
 "cells": [
  {
   "cell_type": "markdown",
   "metadata": {},
   "source": [
    "# VacationPy\n",
    "----\n",
    "\n",
    "#### Note\n",
    "* Instructions have been included for each segment. You do not have to follow them exactly, but they are included to help you think through the steps."
   ]
  },
  {
   "cell_type": "code",
   "execution_count": 25,
   "metadata": {},
   "outputs": [],
   "source": [
    "# Dependencies and Setup\n",
    "import matplotlib.pyplot as plt\n",
    "import pandas as pd\n",
    "import numpy as np\n",
    "import requests\n",
    "import gmaps\n",
    "import os\n",
    "\n",
    "# Import API key\n",
    "from api_keys import g_key\n"
   ]
  },
  {
   "cell_type": "markdown",
   "metadata": {},
   "source": [
    "### Store Part I results into DataFrame\n",
    "* Load the csv exported in Part I to a DataFrame"
   ]
  },
  {
   "cell_type": "code",
   "execution_count": 26,
   "metadata": {},
   "outputs": [
    {
     "output_type": "execute_result",
     "data": {
      "text/plain": "   Unnamed: 0               City     lon   temp  temp_max  humidity  \\\n0           0              Uvira   29.15  73.00     73.00      48.0   \n1           1             Albany  -73.97  42.22     46.00      70.0   \n2           2         Nanortalik  -45.24  36.46     36.46      94.0   \n3           3  City of San Pedro  121.02  81.77     82.40      69.0   \n4           4              Kapaa -159.32  70.88     73.40      83.0   \n\n   cloudiness  wind_speed country    lat  \n0        15.0        0.47      CD  -3.41  \n1        90.0       10.29      US  42.60  \n2       100.0        8.90      GL  60.14  \n3        20.0        5.82      PH  14.35  \n4        40.0       13.87      US  22.08  ",
      "text/html": "<div>\n<style scoped>\n    .dataframe tbody tr th:only-of-type {\n        vertical-align: middle;\n    }\n\n    .dataframe tbody tr th {\n        vertical-align: top;\n    }\n\n    .dataframe thead th {\n        text-align: right;\n    }\n</style>\n<table border=\"1\" class=\"dataframe\">\n  <thead>\n    <tr style=\"text-align: right;\">\n      <th></th>\n      <th>Unnamed: 0</th>\n      <th>City</th>\n      <th>lon</th>\n      <th>temp</th>\n      <th>temp_max</th>\n      <th>humidity</th>\n      <th>cloudiness</th>\n      <th>wind_speed</th>\n      <th>country</th>\n      <th>lat</th>\n    </tr>\n  </thead>\n  <tbody>\n    <tr>\n      <th>0</th>\n      <td>0</td>\n      <td>Uvira</td>\n      <td>29.15</td>\n      <td>73.00</td>\n      <td>73.00</td>\n      <td>48.0</td>\n      <td>15.0</td>\n      <td>0.47</td>\n      <td>CD</td>\n      <td>-3.41</td>\n    </tr>\n    <tr>\n      <th>1</th>\n      <td>1</td>\n      <td>Albany</td>\n      <td>-73.97</td>\n      <td>42.22</td>\n      <td>46.00</td>\n      <td>70.0</td>\n      <td>90.0</td>\n      <td>10.29</td>\n      <td>US</td>\n      <td>42.60</td>\n    </tr>\n    <tr>\n      <th>2</th>\n      <td>2</td>\n      <td>Nanortalik</td>\n      <td>-45.24</td>\n      <td>36.46</td>\n      <td>36.46</td>\n      <td>94.0</td>\n      <td>100.0</td>\n      <td>8.90</td>\n      <td>GL</td>\n      <td>60.14</td>\n    </tr>\n    <tr>\n      <th>3</th>\n      <td>3</td>\n      <td>City of San Pedro</td>\n      <td>121.02</td>\n      <td>81.77</td>\n      <td>82.40</td>\n      <td>69.0</td>\n      <td>20.0</td>\n      <td>5.82</td>\n      <td>PH</td>\n      <td>14.35</td>\n    </tr>\n    <tr>\n      <th>4</th>\n      <td>4</td>\n      <td>Kapaa</td>\n      <td>-159.32</td>\n      <td>70.88</td>\n      <td>73.40</td>\n      <td>83.0</td>\n      <td>40.0</td>\n      <td>13.87</td>\n      <td>US</td>\n      <td>22.08</td>\n    </tr>\n  </tbody>\n</table>\n</div>"
     },
     "metadata": {},
     "execution_count": 26
    }
   ],
   "source": [
    "cityData = pd.read_csv(\"C:\\\\Users\\\\12162\\\\Documents\\\\DataViz\\\\CWR-CLE-DATA-PT-01-2020-U-C\\\\06-Python-APIs\\HomeworkAPI\\\\Solutions\\\\cities.csv\")\n",
    "cityData.head()"
   ]
  },
  {
   "cell_type": "markdown",
   "metadata": {},
   "source": [
    "### Humidity Heatmap\n",
    "* Configure gmaps.\n",
    "* Use the Lat and Lng as locations and Humidity as the weight.\n",
    "* Add Heatmap layer to map."
   ]
  },
  {
   "cell_type": "code",
   "execution_count": 27,
   "metadata": {},
   "outputs": [],
   "source": [
    "# Configure gmaps\n",
    "gmaps.configure(api_key=g_key)"
   ]
  },
  {
   "cell_type": "code",
   "execution_count": 30,
   "metadata": {},
   "outputs": [
    {
     "output_type": "display_data",
     "data": {
      "text/plain": "Figure(layout=FigureLayout(height='420px'))",
      "application/vnd.jupyter.widget-view+json": {
       "version_major": 2,
       "version_minor": 0,
       "model_id": "9b7f46d5517e4031ba4b107951128411"
      }
     },
     "metadata": {}
    }
   ],
   "source": [
    "# Heatmap of humidity\n",
    "locations = cityData[[\"lat\", \"lon\"]]\n",
    "humidity = cityData[\"humidity\"]\n",
    "fig = gmaps.figure()\n",
    "heat_layer = gmaps.heatmap_layer(locations, weights=humidity, dissipating=False, max_intensity=300, point_radius=5)\n",
    "\n",
    "fig.add_layer(heat_layer)\n",
    "\n",
    "fig\n"
   ]
  },
  {
   "cell_type": "markdown",
   "metadata": {},
   "source": [
    "### Create new DataFrame fitting weather criteria\n",
    "* Narrow down the cities to fit weather conditions.\n",
    "* Drop any rows will null values."
   ]
  },
  {
   "cell_type": "code",
   "execution_count": 34,
   "metadata": {},
   "outputs": [
    {
     "output_type": "execute_result",
     "data": {
      "text/plain": "     Unnamed: 0                  City    lon   temp  temp_max  humidity  \\\n18           19               Lumding  93.17  71.17     71.17      30.0   \n22           23        Port Elizabeth  25.57  71.60     71.60      78.0   \n134         151       Bandar-e Lengeh  54.88  75.20     75.20      53.0   \n208         238               Sawākin  37.33  75.96     75.96      60.0   \n303         347  Makkah al Mukarramah  39.83  75.85     75.85      43.0   \n323         375               Māngrol  70.12  75.56     75.56      76.0   \n412         470                 Sabha  14.43  71.35     71.35      18.0   \n430         493                  Bela  81.98  76.78     76.78      25.0   \n432         496              Buraidah  43.98  73.40     73.40      33.0   \n472         540            Srīvardhan  73.02  78.58     78.58      68.0   \n480         550                Sittwe  92.90  76.77     76.77      68.0   \n528         601                Riyadh  46.72  77.00     77.00      25.0   \n\n     cloudiness  wind_speed country    lat  \n18          0.0        2.21      IN  25.75  \n22          0.0        6.93      ZA -33.92  \n134         0.0        9.17      IR  26.56  \n208         0.0        7.16      SD  19.11  \n303         0.0        3.96      SA  21.43  \n323         0.0        8.68      IN  21.12  \n412         0.0        6.78      LY  27.04  \n430         0.0        6.31      IN  25.93  \n432         0.0        5.82      SA  26.33  \n472         0.0        5.37      IN  18.03  \n480         0.0        6.73      MM  20.15  \n528         0.0        8.05      SA  24.69  ",
      "text/html": "<div>\n<style scoped>\n    .dataframe tbody tr th:only-of-type {\n        vertical-align: middle;\n    }\n\n    .dataframe tbody tr th {\n        vertical-align: top;\n    }\n\n    .dataframe thead th {\n        text-align: right;\n    }\n</style>\n<table border=\"1\" class=\"dataframe\">\n  <thead>\n    <tr style=\"text-align: right;\">\n      <th></th>\n      <th>Unnamed: 0</th>\n      <th>City</th>\n      <th>lon</th>\n      <th>temp</th>\n      <th>temp_max</th>\n      <th>humidity</th>\n      <th>cloudiness</th>\n      <th>wind_speed</th>\n      <th>country</th>\n      <th>lat</th>\n    </tr>\n  </thead>\n  <tbody>\n    <tr>\n      <th>18</th>\n      <td>19</td>\n      <td>Lumding</td>\n      <td>93.17</td>\n      <td>71.17</td>\n      <td>71.17</td>\n      <td>30.0</td>\n      <td>0.0</td>\n      <td>2.21</td>\n      <td>IN</td>\n      <td>25.75</td>\n    </tr>\n    <tr>\n      <th>22</th>\n      <td>23</td>\n      <td>Port Elizabeth</td>\n      <td>25.57</td>\n      <td>71.60</td>\n      <td>71.60</td>\n      <td>78.0</td>\n      <td>0.0</td>\n      <td>6.93</td>\n      <td>ZA</td>\n      <td>-33.92</td>\n    </tr>\n    <tr>\n      <th>134</th>\n      <td>151</td>\n      <td>Bandar-e Lengeh</td>\n      <td>54.88</td>\n      <td>75.20</td>\n      <td>75.20</td>\n      <td>53.0</td>\n      <td>0.0</td>\n      <td>9.17</td>\n      <td>IR</td>\n      <td>26.56</td>\n    </tr>\n    <tr>\n      <th>208</th>\n      <td>238</td>\n      <td>Sawākin</td>\n      <td>37.33</td>\n      <td>75.96</td>\n      <td>75.96</td>\n      <td>60.0</td>\n      <td>0.0</td>\n      <td>7.16</td>\n      <td>SD</td>\n      <td>19.11</td>\n    </tr>\n    <tr>\n      <th>303</th>\n      <td>347</td>\n      <td>Makkah al Mukarramah</td>\n      <td>39.83</td>\n      <td>75.85</td>\n      <td>75.85</td>\n      <td>43.0</td>\n      <td>0.0</td>\n      <td>3.96</td>\n      <td>SA</td>\n      <td>21.43</td>\n    </tr>\n    <tr>\n      <th>323</th>\n      <td>375</td>\n      <td>Māngrol</td>\n      <td>70.12</td>\n      <td>75.56</td>\n      <td>75.56</td>\n      <td>76.0</td>\n      <td>0.0</td>\n      <td>8.68</td>\n      <td>IN</td>\n      <td>21.12</td>\n    </tr>\n    <tr>\n      <th>412</th>\n      <td>470</td>\n      <td>Sabha</td>\n      <td>14.43</td>\n      <td>71.35</td>\n      <td>71.35</td>\n      <td>18.0</td>\n      <td>0.0</td>\n      <td>6.78</td>\n      <td>LY</td>\n      <td>27.04</td>\n    </tr>\n    <tr>\n      <th>430</th>\n      <td>493</td>\n      <td>Bela</td>\n      <td>81.98</td>\n      <td>76.78</td>\n      <td>76.78</td>\n      <td>25.0</td>\n      <td>0.0</td>\n      <td>6.31</td>\n      <td>IN</td>\n      <td>25.93</td>\n    </tr>\n    <tr>\n      <th>432</th>\n      <td>496</td>\n      <td>Buraidah</td>\n      <td>43.98</td>\n      <td>73.40</td>\n      <td>73.40</td>\n      <td>33.0</td>\n      <td>0.0</td>\n      <td>5.82</td>\n      <td>SA</td>\n      <td>26.33</td>\n    </tr>\n    <tr>\n      <th>472</th>\n      <td>540</td>\n      <td>Srīvardhan</td>\n      <td>73.02</td>\n      <td>78.58</td>\n      <td>78.58</td>\n      <td>68.0</td>\n      <td>0.0</td>\n      <td>5.37</td>\n      <td>IN</td>\n      <td>18.03</td>\n    </tr>\n    <tr>\n      <th>480</th>\n      <td>550</td>\n      <td>Sittwe</td>\n      <td>92.90</td>\n      <td>76.77</td>\n      <td>76.77</td>\n      <td>68.0</td>\n      <td>0.0</td>\n      <td>6.73</td>\n      <td>MM</td>\n      <td>20.15</td>\n    </tr>\n    <tr>\n      <th>528</th>\n      <td>601</td>\n      <td>Riyadh</td>\n      <td>46.72</td>\n      <td>77.00</td>\n      <td>77.00</td>\n      <td>25.0</td>\n      <td>0.0</td>\n      <td>8.05</td>\n      <td>SA</td>\n      <td>24.69</td>\n    </tr>\n  </tbody>\n</table>\n</div>"
     },
     "metadata": {},
     "execution_count": 34
    }
   ],
   "source": [
    "# Narrow down cities that fit criteria and drop any results with null values\n",
    "narrowedCity = city_data_df.loc[(city_data_df[\"temp_max\"] < 80) & (cityData[\"temp_max\"] > 70) \\\n",
    "                                    & (cityData[\"wind_speed\"] < 10) \\\n",
    "                                    & (cityData[\"cloudiness\"] == 0)].dropna()\n",
    "narrowedCity"
   ]
  },
  {
   "cell_type": "markdown",
   "metadata": {},
   "source": [
    "### Hotel Map\n",
    "* Store into variable named `hotel_df`.\n",
    "* Add a \"Hotel Name\" column to the DataFrame.\n",
    "* Set parameters to search for hotels with 5000 meters.\n",
    "* Hit the Google Places API for each city's coordinates.\n",
    "* Store the first Hotel result into the DataFrame.\n",
    "* Plot markers on top of the heatmap."
   ]
  },
  {
   "cell_type": "code",
   "execution_count": 35,
   "metadata": {},
   "outputs": [
    {
     "output_type": "execute_result",
     "data": {
      "text/plain": "                     City country    lat    lon Hotel Name\n18                Lumding      IN  25.75  93.17           \n22         Port Elizabeth      ZA -33.92  25.57           \n134       Bandar-e Lengeh      IR  26.56  54.88           \n208               Sawākin      SD  19.11  37.33           \n303  Makkah al Mukarramah      SA  21.43  39.83           \n323               Māngrol      IN  21.12  70.12           \n412                 Sabha      LY  27.04  14.43           \n430                  Bela      IN  25.93  81.98           \n432              Buraidah      SA  26.33  43.98           \n472            Srīvardhan      IN  18.03  73.02           \n480                Sittwe      MM  20.15  92.90           \n528                Riyadh      SA  24.69  46.72           ",
      "text/html": "<div>\n<style scoped>\n    .dataframe tbody tr th:only-of-type {\n        vertical-align: middle;\n    }\n\n    .dataframe tbody tr th {\n        vertical-align: top;\n    }\n\n    .dataframe thead th {\n        text-align: right;\n    }\n</style>\n<table border=\"1\" class=\"dataframe\">\n  <thead>\n    <tr style=\"text-align: right;\">\n      <th></th>\n      <th>City</th>\n      <th>country</th>\n      <th>lat</th>\n      <th>lon</th>\n      <th>Hotel Name</th>\n    </tr>\n  </thead>\n  <tbody>\n    <tr>\n      <th>18</th>\n      <td>Lumding</td>\n      <td>IN</td>\n      <td>25.75</td>\n      <td>93.17</td>\n      <td></td>\n    </tr>\n    <tr>\n      <th>22</th>\n      <td>Port Elizabeth</td>\n      <td>ZA</td>\n      <td>-33.92</td>\n      <td>25.57</td>\n      <td></td>\n    </tr>\n    <tr>\n      <th>134</th>\n      <td>Bandar-e Lengeh</td>\n      <td>IR</td>\n      <td>26.56</td>\n      <td>54.88</td>\n      <td></td>\n    </tr>\n    <tr>\n      <th>208</th>\n      <td>Sawākin</td>\n      <td>SD</td>\n      <td>19.11</td>\n      <td>37.33</td>\n      <td></td>\n    </tr>\n    <tr>\n      <th>303</th>\n      <td>Makkah al Mukarramah</td>\n      <td>SA</td>\n      <td>21.43</td>\n      <td>39.83</td>\n      <td></td>\n    </tr>\n    <tr>\n      <th>323</th>\n      <td>Māngrol</td>\n      <td>IN</td>\n      <td>21.12</td>\n      <td>70.12</td>\n      <td></td>\n    </tr>\n    <tr>\n      <th>412</th>\n      <td>Sabha</td>\n      <td>LY</td>\n      <td>27.04</td>\n      <td>14.43</td>\n      <td></td>\n    </tr>\n    <tr>\n      <th>430</th>\n      <td>Bela</td>\n      <td>IN</td>\n      <td>25.93</td>\n      <td>81.98</td>\n      <td></td>\n    </tr>\n    <tr>\n      <th>432</th>\n      <td>Buraidah</td>\n      <td>SA</td>\n      <td>26.33</td>\n      <td>43.98</td>\n      <td></td>\n    </tr>\n    <tr>\n      <th>472</th>\n      <td>Srīvardhan</td>\n      <td>IN</td>\n      <td>18.03</td>\n      <td>73.02</td>\n      <td></td>\n    </tr>\n    <tr>\n      <th>480</th>\n      <td>Sittwe</td>\n      <td>MM</td>\n      <td>20.15</td>\n      <td>92.90</td>\n      <td></td>\n    </tr>\n    <tr>\n      <th>528</th>\n      <td>Riyadh</td>\n      <td>SA</td>\n      <td>24.69</td>\n      <td>46.72</td>\n      <td></td>\n    </tr>\n  </tbody>\n</table>\n</div>"
     },
     "metadata": {},
     "execution_count": 35
    }
   ],
   "source": [
    "# Create DataFrame called hotel_df to store hotel names along with city, country and coordinates\n",
    "hotel_df = narrowedCity[[\"City\", \"country\", \"lat\", \"lon\"]].copy()\n",
    "hotel_df[\"Hotel Name\"] = \"\"\n",
    "hotel_df"
   ]
  },
  {
   "cell_type": "code",
   "execution_count": 43,
   "metadata": {},
   "outputs": [
    {
     "output_type": "execute_result",
     "data": {
      "text/plain": "                     City country    lat    lon  \\\n18                Lumding      IN  25.75  93.17   \n22         Port Elizabeth      ZA -33.92  25.57   \n134       Bandar-e Lengeh      IR  26.56  54.88   \n208               Sawākin      SD  19.11  37.33   \n303  Makkah al Mukarramah      SA  21.43  39.83   \n323               Māngrol      IN  21.12  70.12   \n412                 Sabha      LY  27.04  14.43   \n430                  Bela      IN  25.93  81.98   \n432              Buraidah      SA  26.33  43.98   \n472            Srīvardhan      IN  18.03  73.02   \n480                Sittwe      MM  20.15  92.90   \n528                Riyadh      SA  24.69  46.72   \n\n                                  Hotel Name  \\\n18                            Hotel Nilamber   \n22                    39 On Nile Guest House   \n134                           Golestan Motel   \n208                              فندق الدويم   \n303  Hotel Fairmont Makkah Clock Royal Tower   \n323                  Hotel The Royal Honours   \n412            محطة ام الارانب -سبها مواصلات   \n430                          Siddharth Hotel   \n432                         فندق راحة السلام   \n472         Savli Resort/Hotel - Shrivardhan   \n480                             Hotel Memory   \n528                  InterContinental Riyadh   \n\n                                       Hotel  \n18                            Hotel Nilamber  \n22                    39 On Nile Guest House  \n134                           Golestan Motel  \n208                              فندق الدويم  \n303  Hotel Fairmont Makkah Clock Royal Tower  \n323                  Hotel The Royal Honours  \n412            محطة ام الارانب -سبها مواصلات  \n430                          Siddharth Hotel  \n432                         فندق راحة السلام  \n472         Savli Resort/Hotel - Shrivardhan  \n480                             Hotel Memory  \n528                  InterContinental Riyadh  ",
      "text/html": "<div>\n<style scoped>\n    .dataframe tbody tr th:only-of-type {\n        vertical-align: middle;\n    }\n\n    .dataframe tbody tr th {\n        vertical-align: top;\n    }\n\n    .dataframe thead th {\n        text-align: right;\n    }\n</style>\n<table border=\"1\" class=\"dataframe\">\n  <thead>\n    <tr style=\"text-align: right;\">\n      <th></th>\n      <th>City</th>\n      <th>country</th>\n      <th>lat</th>\n      <th>lon</th>\n      <th>Hotel Name</th>\n      <th>Hotel</th>\n    </tr>\n  </thead>\n  <tbody>\n    <tr>\n      <th>18</th>\n      <td>Lumding</td>\n      <td>IN</td>\n      <td>25.75</td>\n      <td>93.17</td>\n      <td>Hotel Nilamber</td>\n      <td>Hotel Nilamber</td>\n    </tr>\n    <tr>\n      <th>22</th>\n      <td>Port Elizabeth</td>\n      <td>ZA</td>\n      <td>-33.92</td>\n      <td>25.57</td>\n      <td>39 On Nile Guest House</td>\n      <td>39 On Nile Guest House</td>\n    </tr>\n    <tr>\n      <th>134</th>\n      <td>Bandar-e Lengeh</td>\n      <td>IR</td>\n      <td>26.56</td>\n      <td>54.88</td>\n      <td>Golestan Motel</td>\n      <td>Golestan Motel</td>\n    </tr>\n    <tr>\n      <th>208</th>\n      <td>Sawākin</td>\n      <td>SD</td>\n      <td>19.11</td>\n      <td>37.33</td>\n      <td>فندق الدويم</td>\n      <td>فندق الدويم</td>\n    </tr>\n    <tr>\n      <th>303</th>\n      <td>Makkah al Mukarramah</td>\n      <td>SA</td>\n      <td>21.43</td>\n      <td>39.83</td>\n      <td>Hotel Fairmont Makkah Clock Royal Tower</td>\n      <td>Hotel Fairmont Makkah Clock Royal Tower</td>\n    </tr>\n    <tr>\n      <th>323</th>\n      <td>Māngrol</td>\n      <td>IN</td>\n      <td>21.12</td>\n      <td>70.12</td>\n      <td>Hotel The Royal Honours</td>\n      <td>Hotel The Royal Honours</td>\n    </tr>\n    <tr>\n      <th>412</th>\n      <td>Sabha</td>\n      <td>LY</td>\n      <td>27.04</td>\n      <td>14.43</td>\n      <td>محطة ام الارانب -سبها مواصلات</td>\n      <td>محطة ام الارانب -سبها مواصلات</td>\n    </tr>\n    <tr>\n      <th>430</th>\n      <td>Bela</td>\n      <td>IN</td>\n      <td>25.93</td>\n      <td>81.98</td>\n      <td>Siddharth Hotel</td>\n      <td>Siddharth Hotel</td>\n    </tr>\n    <tr>\n      <th>432</th>\n      <td>Buraidah</td>\n      <td>SA</td>\n      <td>26.33</td>\n      <td>43.98</td>\n      <td>فندق راحة السلام</td>\n      <td>فندق راحة السلام</td>\n    </tr>\n    <tr>\n      <th>472</th>\n      <td>Srīvardhan</td>\n      <td>IN</td>\n      <td>18.03</td>\n      <td>73.02</td>\n      <td>Savli Resort/Hotel - Shrivardhan</td>\n      <td>Savli Resort/Hotel - Shrivardhan</td>\n    </tr>\n    <tr>\n      <th>480</th>\n      <td>Sittwe</td>\n      <td>MM</td>\n      <td>20.15</td>\n      <td>92.90</td>\n      <td>Hotel Memory</td>\n      <td>Hotel Memory</td>\n    </tr>\n    <tr>\n      <th>528</th>\n      <td>Riyadh</td>\n      <td>SA</td>\n      <td>24.69</td>\n      <td>46.72</td>\n      <td>InterContinental Riyadh</td>\n      <td>InterContinental Riyadh</td>\n    </tr>\n  </tbody>\n</table>\n</div>"
     },
     "metadata": {},
     "execution_count": 43
    }
   ],
   "source": [
    "# Set parameters to search for a hotel\n",
    "params = {\n",
    "    \"radius\": 5000,\n",
    "    \"types\": \"lodging\",\n",
    "    \"key\": g_key\n",
    "}\n",
    "\n",
    "# Iterate through \n",
    "for index, row in hotel_df.iterrows():\n",
    "    # get lat, lng from df\n",
    "    lat = row[\"lat\"]\n",
    "    lon = row[\"lon\"]\n",
    "    \n",
    "    params[\"location\"] = f\"{lat},{lon}\"\n",
    "    \n",
    "    # Use the search term: \"Hotel\" and our lat/lon\n",
    "    base_url = \"https://maps.googleapis.com/maps/api/place/nearbysearch/json\"\n",
    "\n",
    "    # make request and print url\n",
    "    name_address = requests.get(base_url, params=params)\n",
    "    \n",
    "    # convert to json\n",
    "    name_address = name_address.json()\n",
    "    \n",
    "    # Grab the first hotel from the results and store the name\n",
    "    try:\n",
    "        hotel_df.loc[index, \"Hotel\"] = name_address[\"results\"][0][\"name\"]\n",
    "    except (KeyError, IndexError):\n",
    "        print(\"Missing field/result... skipping.\")\n",
    "\n",
    "hotel_df"
   ]
  },
  {
   "cell_type": "code",
   "execution_count": 38,
   "metadata": {},
   "outputs": [],
   "source": [
    "\n"
   ]
  },
  {
   "cell_type": "code",
   "execution_count": 50,
   "metadata": {},
   "outputs": [],
   "source": [
    "# NOTE: Do not change any of the code in this cell\n",
    "\n",
    "# Using the template add the hotel marks to the heatmap\n",
    "info_box_template = \"\"\"\n",
    "<dl>\n",
    "<dt>Name</dt><dd>{Hotel Name}</dd>\n",
    "<dt>City</dt><dd>{City}</dd>\n",
    "<dt>Country</dt><dd>{country}</dd>\n",
    "</dl>\n",
    "\"\"\"\n",
    "# Store the DataFrame Row\n",
    "# NOTE: be sure to update with your DataFrame name\n",
    "hotel_info = [info_box_template.format(**row) for index, row in hotel_df.iterrows()]\n",
    "locations = hotel_df[[\"lat\", \"lon\"]]"
   ]
  },
  {
   "cell_type": "code",
   "execution_count": 51,
   "metadata": {},
   "outputs": [
    {
     "output_type": "display_data",
     "data": {
      "text/plain": "Figure(layout=FigureLayout(height='420px'))",
      "application/vnd.jupyter.widget-view+json": {
       "version_major": 2,
       "version_minor": 0,
       "model_id": "9b7f46d5517e4031ba4b107951128411"
      }
     },
     "metadata": {}
    }
   ],
   "source": [
    "# Add marker layer ontop of heat map\n",
    "marker_layer = gmaps.marker_layer(locations, info_box_content=hotel_info)\n",
    "fig.add_layer(marker_layer)\n",
    "\n",
    "# Display figure\n",
    "fig\n",
    "\n",
    "# Display Map"
   ]
  },
  {
   "cell_type": "code",
   "execution_count": null,
   "metadata": {},
   "outputs": [],
   "source": []
  }
 ],
 "metadata": {
  "kernelspec": {
   "display_name": "Python 3.7.6 64-bit ('PythonData': conda)",
   "language": "python",
   "name": "python37664bitpythondatacondad01675346f0947a397e88e5c85311190"
  },
  "language_info": {
   "codemirror_mode": {
    "name": "ipython",
    "version": 3
   },
   "file_extension": ".py",
   "mimetype": "text/x-python",
   "name": "python",
   "nbconvert_exporter": "python",
   "pygments_lexer": "ipython3",
   "version": "3.7.6-final"
  },
  "latex_envs": {
   "LaTeX_envs_menu_present": true,
   "autoclose": false,
   "autocomplete": true,
   "bibliofile": "biblio.bib",
   "cite_by": "apalike",
   "current_citInitial": 1,
   "eqLabelWithNumbers": true,
   "eqNumInitial": 1,
   "hotkeys": {
    "equation": "Ctrl-E",
    "itemize": "Ctrl-I"
   },
   "labels_anchors": false,
   "latex_user_defs": false,
   "report_style_numbering": false,
   "user_envs_cfg": false
  }
 },
 "nbformat": 4,
 "nbformat_minor": 2
}